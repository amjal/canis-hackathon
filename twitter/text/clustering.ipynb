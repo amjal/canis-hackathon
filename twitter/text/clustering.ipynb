{
 "cells": [
  {
   "cell_type": "code",
   "execution_count": 7,
   "id": "1002959f-11bc-480c-88dd-d990664fec43",
   "metadata": {},
   "outputs": [],
   "source": [
    "import umap\n",
    "import os\n",
    "import nltk\n",
    "import pandas as pd\n",
    "from nltk.tokenize import sent_tokenize, word_tokenize\n",
    "from transformers import AutoTokenizer, AutoModel\n",
    "import torch\n",
    "import torch.nn.functional as F\n",
    "from sentence_transformers import SentenceTransformer\n",
    "import matplotlib.pyplot as plt\n",
    "import hdbscan\n",
    "import numpy as np\n",
    "import re\n",
    "import emoji\n",
    "from bertopic import BERTopic\n",
    "from sklearn.feature_extraction.text import CountVectorizer\n",
    "from bertopic.vectorizers import ClassTfidfTransformer\n",
    "from bertopic.representation import KeyBERTInspired\n"
   ]
  },
  {
   "cell_type": "code",
   "execution_count": 8,
   "id": "397969f0",
   "metadata": {},
   "outputs": [],
   "source": [
    "def clean_tweet(tweet):\n",
    "    tweet = re.sub(\"@[A-Za-z0-9]+\",\"\",tweet) #Remove @ sign\n",
    "    tweet = re.sub(r\"(?:\\@|http?\\://|https?\\://|www)\\S+\", \"\", tweet) #Remove http links\n",
    "    tweet = \" \".join(tweet.split())\n",
    "    tweet = ''.join(c for c in tweet if c not in emoji.EMOJI_DATA)\n",
    "    tweet = tweet.replace(\"#\", \"\").replace(\"_\", \" \").replace(\"RT \", \"\").replace('&amp;', '&') #Remove hashtag sign but keep the text\n",
    "    return tweet"
   ]
  },
  {
   "cell_type": "code",
   "execution_count": 9,
   "id": "767dae16",
   "metadata": {},
   "outputs": [],
   "source": [
    "tweets_csv = pd.read_csv(\"../../tweets.csv\")\n",
    "tweets_csv_en = tweets_csv[tweets_csv[\"lang\"] == \"en\"]"
   ]
  },
  {
   "cell_type": "code",
   "execution_count": 10,
   "id": "b1b3b17c",
   "metadata": {},
   "outputs": [],
   "source": [
    "texts = tweets_csv_en[\"full_text\"]\n",
    "tweets = []\n",
    "for t in texts:\n",
    "    tweets.append(clean_tweet(t))"
   ]
  },
  {
   "cell_type": "code",
   "execution_count": 15,
   "id": "633b942c",
   "metadata": {},
   "outputs": [],
   "source": [
    "if os.path.exists(\"./topic.pkl\"):\n",
    "    topic_model = BERTopic.load(\"./topic.pkl\", embedding_model=\"all-mpnet-base-v2\")\n",
    "else:\n",
    "    ctfidf_model = ClassTfidfTransformer(reduce_frequent_words=True)\n",
    "    representation_model = KeyBERTInspired()\n",
    "    vectorizer_model = CountVectorizer(stop_words=\"english\")\n",
    "    topic_model = BERTopic(embedding_model=\"all-mpnet-base-v2\", vectorizer_model=vectorizer_model, ctfidf_model=ctfidf_model, representation_model=representation_model)\n",
    "    topics, probs = topic_model.fit_transform(tweets)\n",
    "    new_topics = topic_model.reduce_outliers(tweets, topics)\n",
    "    topic_model.update_topics(tweets, topics=new_topics)\n",
    "    topic_model.save(\"./topic.pkl\", save_embedding_model=False)\n",
    "info = topic_model.get_topic_info()"
   ]
  },
  {
   "cell_type": "code",
   "execution_count": 16,
   "id": "85311cdc",
   "metadata": {},
   "outputs": [],
   "source": [
    "topic_names = [topic_model.get_topic_info(t)[\"Name\"] for t in topics]\n",
    "topic_names = [t.values[0] for t in topic_names]\n",
    "tweets_csv_en[\"topic\"] = topic_names\n",
    "tweets_csv_merged = tweets_csv.merge(tweets_csv_en[[\"id_str\", \"topic\"]], on=[\"id_str\"], how=\"outer\")\n",
    "tweets_csv_merged.to_csv(\"tweets_with_topic.csv\", index=False)"
   ]
  },
  {
   "cell_type": "code",
   "execution_count": 17,
   "id": "1562487e",
   "metadata": {},
   "outputs": [],
   "source": [
    "def get_users(text, df):\n",
    "    similar_topics, similarity = topic_model.find_topics(text, top_n=3)\n",
    "    topic_names = [topic_model.get_topic_info(t)[\"Name\"] for t in similar_topics]\n",
    "    topic_names = [t.values[0] for t in topic_names]\n",
    "    return df[df[\"topic\"].isin(topic_names)]['screen_name'].unique()"
   ]
  },
  {
   "cell_type": "code",
   "execution_count": 18,
   "id": "bf68741d",
   "metadata": {},
   "outputs": [
    {
     "data": {
      "text/plain": [
       "array(['ShanghaiEye', 'ChineseCon_Mel', 'ChinaDaily', 'ChineseEmbinUS',\n",
       "       'ChinaEmbInNZ', 'ChinaEmbNL', 'ChinaEmbKSA', 'YXiusheng',\n",
       "       'ChinaInDenmark', 'GlobalTimesLife', 'ChinaEmbPeru', 'CathayPak',\n",
       "       'ChinaEmbassy_MW', 'ziyi_zeng', 'ChinaEmbSL', 'PDChina',\n",
       "       'ChinaAmbSA', 'ChinaAmbUN', 'ChinaEmbinRW', 'HU_Bin_CHN',\n",
       "       'ChineseEmb_PNG', 'embassy_chinese', 'China_Amb_India',\n",
       "       'ChenPingMFA', 'ChinaEmbKuwait', 'chinacgedi', 'CaoYi_MFA',\n",
       "       'ChineAmbassade', 'XHNews', 'ChinaEmbPoland', 'Echinanews',\n",
       "       'ChinaEmb_Juba', 'CdOpinion', 'TheLinkOnCGTN', 'jtao98',\n",
       "       'zhanhao668', 'AmbQinGang', 'Ambassador_Liu', 'YuqiaoJi',\n",
       "       'ZhengJunfeng1', 'PeoplesDailyapp', 'ChinaEmbinGH',\n",
       "       'AmbassadorLei', 'haiwainet', 'dupingCHN', 'AmbLiuXiaoMing',\n",
       "       'MahuiChina', 'AmbJiaGuide', 'china_emb_ng', 'SpokespersonCHN',\n",
       "       'ChinaCG_CC', 'ChineseEmbinUK', 'HuXijin_GT', 'ChineseEmbTZ',\n",
       "       'XIEYongjun_CHN', 'ModernExpressEN', 'ConsulateSan',\n",
       "       'ChinaAmbBelgium', 'ChinaEmSlovenia', 'globaltimesnews',\n",
       "       'ChinaEmbNamibia'], dtype=object)"
      ]
     },
     "execution_count": 18,
     "metadata": {},
     "output_type": "execute_result"
    }
   ],
   "source": [
    "get_users(\"war\", tweets_csv_merged)"
   ]
  },
  {
   "cell_type": "code",
   "execution_count": null,
   "id": "1877b2ee",
   "metadata": {},
   "outputs": [],
   "source": []
  }
 ],
 "metadata": {
  "kernelspec": {
   "display_name": "Python 3 (ipykernel)",
   "language": "python",
   "name": "python3"
  },
  "language_info": {
   "codemirror_mode": {
    "name": "ipython",
    "version": 3
   },
   "file_extension": ".py",
   "mimetype": "text/x-python",
   "name": "python",
   "nbconvert_exporter": "python",
   "pygments_lexer": "ipython3",
   "version": "3.10.4"
  }
 },
 "nbformat": 4,
 "nbformat_minor": 5
}
