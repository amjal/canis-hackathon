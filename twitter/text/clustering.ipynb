{
 "cells": [
  {
   "cell_type": "code",
   "execution_count": 1,
   "id": "1002959f-11bc-480c-88dd-d990664fec43",
   "metadata": {},
   "outputs": [],
   "source": [
    "import umap\n",
    "import nltk\n",
    "import pandas as pd\n",
    "from nltk.tokenize import sent_tokenize, word_tokenize\n",
    "from transformers import AutoTokenizer, AutoModel\n",
    "import torch\n",
    "import torch.nn.functional as F\n",
    "from sentence_transformers import SentenceTransformer\n",
    "import matplotlib.pyplot as plt\n",
    "import hdbscan\n",
    "import numpy as np\n",
    "import re\n",
    "import emoji\n",
    "from bertopic import BERTopic\n",
    "from sklearn.feature_extraction.text import CountVectorizer\n",
    "from bertopic.vectorizers import ClassTfidfTransformer\n",
    "from bertopic.representation import KeyBERTInspired\n"
   ]
  },
  {
   "cell_type": "code",
   "execution_count": 2,
   "id": "397969f0",
   "metadata": {},
   "outputs": [],
   "source": [
    "def clean_tweet(tweet):\n",
    "    tweet = re.sub(\"@[A-Za-z0-9]+\",\"\",tweet) #Remove @ sign\n",
    "    tweet = re.sub(r\"(?:\\@|http?\\://|https?\\://|www)\\S+\", \"\", tweet) #Remove http links\n",
    "    tweet = \" \".join(tweet.split())\n",
    "    tweet = ''.join(c for c in tweet if c not in emoji.EMOJI_DATA)\n",
    "    tweet = tweet.replace(\"#\", \"\").replace(\"_\", \" \").replace(\"RT \", \"\").replace('&amp;', '&') #Remove hashtag sign but keep the text\n",
    "    return tweet"
   ]
  },
  {
   "cell_type": "code",
   "execution_count": 3,
   "id": "767dae16",
   "metadata": {},
   "outputs": [],
   "source": [
    "tweets_csv = pd.read_csv(\"../../tweets.csv\")\n",
    "tweets_csv_en = tweets_csv[tweets_csv[\"lang\"] == \"en\"]"
   ]
  },
  {
   "cell_type": "code",
   "execution_count": 4,
   "id": "b1b3b17c",
   "metadata": {},
   "outputs": [],
   "source": [
    "texts = tweets_csv_en[\"full_text\"]\n",
    "tweets = []\n",
    "for t in texts:\n",
    "    tweets.append(clean_tweet(t))"
   ]
  },
  {
   "cell_type": "code",
   "execution_count": 5,
   "id": "c0fe92ee",
   "metadata": {},
   "outputs": [
    {
     "name": "stdout",
     "output_type": "stream",
     "text": [
      "huggingface/tokenizers: The current process just got forked, after parallelism has already been used. Disabling parallelism to avoid deadlocks...\n",
      "To disable this warning, you can either:\n",
      "\t- Avoid using `tokenizers` before the fork if possible\n",
      "\t- Explicitly set the environment variable TOKENIZERS_PARALLELISM=(true | false)\n",
      "huggingface/tokenizers: The current process just got forked, after parallelism has already been used. Disabling parallelism to avoid deadlocks...\n",
      "To disable this warning, you can either:\n",
      "\t- Avoid using `tokenizers` before the fork if possible\n",
      "\t- Explicitly set the environment variable TOKENIZERS_PARALLELISM=(true | false)\n",
      "huggingface/tokenizers: The current process just got forked, after parallelism has already been used. Disabling parallelism to avoid deadlocks...\n",
      "To disable this warning, you can either:\n",
      "\t- Avoid using `tokenizers` before the fork if possible\n",
      "\t- Explicitly set the environment variable TOKENIZERS_PARALLELISM=(true | false)\n",
      "huggingface/tokenizers: The current process just got forked, after parallelism has already been used. Disabling parallelism to avoid deadlocks...\n",
      "To disable this warning, you can either:\n",
      "\t- Avoid using `tokenizers` before the fork if possible\n",
      "\t- Explicitly set the environment variable TOKENIZERS_PARALLELISM=(true | false)\n",
      "huggingface/tokenizers: The current process just got forked, after parallelism has already been used. Disabling parallelism to avoid deadlocks...\n",
      "To disable this warning, you can either:\n",
      "\t- Avoid using `tokenizers` before the fork if possible\n",
      "\t- Explicitly set the environment variable TOKENIZERS_PARALLELISM=(true | false)\n"
     ]
    }
   ],
   "source": [
    "ctfidf_model = ClassTfidfTransformer(reduce_frequent_words=True)\n",
    "representation_model = KeyBERTInspired()\n",
    "vectorizer_model = CountVectorizer(stop_words=\"english\")\n",
    "topic_model = BERTopic(embedding_model=\"all-mpnet-base-v2\", vectorizer_model=vectorizer_model, ctfidf_model=ctfidf_model, representation_model=representation_model)\n",
    "topics, probs = topic_model.fit_transform(tweets)\n",
    "new_topics = topic_model.reduce_outliers(tweets, topics)\n",
    "topic_model.update_topics(tweets, topics=new_topics)\n",
    "info = topic_model.get_topic_info()"
   ]
  },
  {
   "cell_type": "code",
   "execution_count": 6,
   "id": "85311cdc",
   "metadata": {},
   "outputs": [],
   "source": [
    "topic_names = [topic_model.get_topic_info(t)[\"Name\"] for t in topics]"
   ]
  },
  {
   "cell_type": "code",
   "execution_count": 7,
   "id": "2b6a2ffc",
   "metadata": {},
   "outputs": [],
   "source": [
    "topic_names = [t.values[0] for t in topic_names]"
   ]
  },
  {
   "cell_type": "code",
   "execution_count": 8,
   "id": "33e688ae",
   "metadata": {},
   "outputs": [],
   "source": [
    "tweets_csv_en[\"topic\"] = topic_names"
   ]
  },
  {
   "cell_type": "code",
   "execution_count": 12,
   "id": "fdcd6dd8",
   "metadata": {},
   "outputs": [],
   "source": [
    "tweets_csv_merged = tweets_csv.merge(tweets_csv_en[[\"id_str\", \"topic\"]], on=[\"id_str\"], how=\"outer\")"
   ]
  },
  {
   "cell_type": "code",
   "execution_count": 19,
   "id": "01021de6",
   "metadata": {},
   "outputs": [],
   "source": [
    "tweets_csv_merged.to_csv(\"tweets_with_topic.csv\", index=False)"
   ]
  },
  {
   "cell_type": "code",
   "execution_count": null,
   "id": "d03373bd",
   "metadata": {},
   "outputs": [],
   "source": []
  }
 ],
 "metadata": {
  "kernelspec": {
   "display_name": "Python 3 (ipykernel)",
   "language": "python",
   "name": "python3"
  },
  "language_info": {
   "codemirror_mode": {
    "name": "ipython",
    "version": 3
   },
   "file_extension": ".py",
   "mimetype": "text/x-python",
   "name": "python",
   "nbconvert_exporter": "python",
   "pygments_lexer": "ipython3",
   "version": "3.10.4"
  }
 },
 "nbformat": 4,
 "nbformat_minor": 5
}
